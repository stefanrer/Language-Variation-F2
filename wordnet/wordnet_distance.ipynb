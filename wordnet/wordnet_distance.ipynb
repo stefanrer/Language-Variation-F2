{
 "cells": [
  {
   "cell_type": "code",
   "outputs": [],
   "source": [
    "# !pip install ruwordnet\n",
    "# !ruwordnet download"
   ],
   "metadata": {
    "collapsed": false,
    "ExecuteTime": {
     "end_time": "2024-06-12T13:35:41.607931Z",
     "start_time": "2024-06-12T13:35:41.590403Z"
    }
   },
   "id": "171a6e923f606ec2",
   "execution_count": 17
  },
  {
   "cell_type": "code",
   "execution_count": 18,
   "id": "initial_id",
   "metadata": {
    "collapsed": true,
    "ExecuteTime": {
     "end_time": "2024-06-12T13:35:41.622792Z",
     "start_time": "2024-06-12T13:35:41.609145Z"
    }
   },
   "outputs": [],
   "source": [
    "from ruwordnet import RuWordNet\n",
    "from collections import deque\n",
    "import numpy as np"
   ]
  },
  {
   "cell_type": "code",
   "outputs": [],
   "source": [
    "# Initialize RuWordNet\n",
    "ruwordnet = RuWordNet()"
   ],
   "metadata": {
    "collapsed": false,
    "ExecuteTime": {
     "end_time": "2024-06-12T13:35:41.638318Z",
     "start_time": "2024-06-12T13:35:41.623789Z"
    }
   },
   "id": "377f690dbd948ae5",
   "execution_count": 19
  },
  {
   "cell_type": "code",
   "outputs": [],
   "source": [
    "# Function to get all hypernyms for a given synset\n",
    "def get_hypernyms(synset):\n",
    "    return synset.hypernyms"
   ],
   "metadata": {
    "collapsed": false,
    "ExecuteTime": {
     "end_time": "2024-06-12T13:35:41.655034Z",
     "start_time": "2024-06-12T13:35:41.639315Z"
    }
   },
   "id": "c883a10b114e4e42",
   "execution_count": 20
  },
  {
   "cell_type": "code",
   "outputs": [],
   "source": [
    "# Bidirectional BFS to find shortest path between two synsets\n",
    "def bidirectional_bfs(synset1, synset2):\n",
    "    if synset1 == synset2:\n",
    "        return 0\n",
    "    \n",
    "    queue1 = deque([(synset1, 0)])\n",
    "    queue2 = deque([(synset2, 0)])\n",
    "    \n",
    "    visited1 = {synset1: 0}\n",
    "    visited2 = {synset2: 0}\n",
    "    \n",
    "    while queue1 and queue2:\n",
    "        if queue1:\n",
    "            current_synset, distance = queue1.popleft()\n",
    "            for hypernym in get_hypernyms(current_synset):\n",
    "                if hypernym in visited2:\n",
    "                    return distance + 1 + visited2[hypernym]\n",
    "                if hypernym not in visited1:\n",
    "                    visited1[hypernym] = distance + 1\n",
    "                    queue1.append((hypernym, distance + 1))\n",
    "        \n",
    "        if queue2:\n",
    "            current_synset, distance = queue2.popleft()\n",
    "            for hypernym in get_hypernyms(current_synset):\n",
    "                if hypernym in visited1:\n",
    "                    return distance + 1 + visited1[hypernym]\n",
    "                if hypernym not in visited2:\n",
    "                    visited2[hypernym] = distance + 1\n",
    "                    queue2.append((hypernym, distance + 1))\n",
    "    \n",
    "    return float('inf')"
   ],
   "metadata": {
    "collapsed": false,
    "ExecuteTime": {
     "end_time": "2024-06-12T13:35:41.670488Z",
     "start_time": "2024-06-12T13:35:41.656033Z"
    }
   },
   "id": "47802ea7e5a7dea3",
   "execution_count": 21
  },
  {
   "cell_type": "code",
   "outputs": [],
   "source": [
    "# Function to calculate the minimal distance between two labels\n",
    "def calculate_distance(label1, label2):\n",
    "    synsets_label1 = ruwordnet.get_synsets(label1)\n",
    "    synsets_label2 = ruwordnet.get_synsets(label2)\n",
    "\n",
    "    min_distance = float('inf')\n",
    "    for synset1 in synsets_label1:\n",
    "        for synset2 in synsets_label2:\n",
    "            distance = bidirectional_bfs(synset1, synset2)\n",
    "            if distance < min_distance:\n",
    "                min_distance = distance\n",
    "                \n",
    "    if min_distance == float('inf'):\n",
    "        print(f\"can't calculate distance for {label1} and {label2}\")\n",
    "    \n",
    "    return min_distance if min_distance != float('inf') else None"
   ],
   "metadata": {
    "collapsed": false,
    "ExecuteTime": {
     "end_time": "2024-06-12T13:39:28.686927Z",
     "start_time": "2024-06-12T13:39:28.680299Z"
    }
   },
   "id": "64652bec4227fb34",
   "execution_count": 47
  },
  {
   "cell_type": "code",
   "outputs": [],
   "source": [
    "# Function to calculate the average distance between labels and ideal_label\n",
    "def calculate(labels, ideal_label):\n",
    "    # Calculate distances for correct and wrong labels\n",
    "    distances = [calculate_distance(ideal_label, label) for label in labels]\n",
    "    # Filter out None values\n",
    "    distances = [dist for dist in distances if dist is not None]\n",
    "    # Compute average distances, treating no distances as infinity\n",
    "    average_distance = np.mean(distances) if distances else float('inf')\n",
    "    return average_distance"
   ],
   "metadata": {
    "collapsed": false,
    "ExecuteTime": {
     "end_time": "2024-06-12T13:39:29.202149Z",
     "start_time": "2024-06-12T13:39:29.198566Z"
    }
   },
   "id": "bbff9e41a3db7230",
   "execution_count": 48
  },
  {
   "cell_type": "code",
   "outputs": [
    {
     "name": "stdout",
     "output_type": "stream",
     "text": [
      "distance between label1: человек and label2: женщина is: 1\n"
     ]
    }
   ],
   "source": [
    "label1 = \"человек\"\n",
    "label2 = \"женщина\"\n",
    "distance = calculate_distance(label1, label2)\n",
    "print(f\"distance between label1: {label1} and label2: {label2} is: {distance}\")"
   ],
   "metadata": {
    "collapsed": false,
    "ExecuteTime": {
     "end_time": "2024-06-12T13:39:29.761061Z",
     "start_time": "2024-06-12T13:39:29.751788Z"
    }
   },
   "id": "30afac53042cf77a",
   "execution_count": 49
  },
  {
   "cell_type": "code",
   "outputs": [
    {
     "name": "stdout",
     "output_type": "stream",
     "text": [
      "can't calculate distance for человек and рабочий\n",
      "average distance between labels: ['женщина', 'рабочий'] and ideal label: человек is: 1.0\n"
     ]
    }
   ],
   "source": [
    "labels = [\"женщина\", \"рабочий\"]\n",
    "ideal_label = \"человек\"\n",
    "average_distance = calculate(labels, ideal_label)\n",
    "print(f\"average distance between labels: {labels} and ideal label: {ideal_label} is: {average_distance}\")"
   ],
   "metadata": {
    "collapsed": false,
    "ExecuteTime": {
     "end_time": "2024-06-12T13:39:30.582699Z",
     "start_time": "2024-06-12T13:39:30.563832Z"
    }
   },
   "id": "51f262cdf5e29c81",
   "execution_count": 50
  },
  {
   "cell_type": "code",
   "outputs": [],
   "source": [],
   "metadata": {
    "collapsed": false,
    "ExecuteTime": {
     "end_time": "2024-06-12T13:35:41.746647Z",
     "start_time": "2024-06-12T13:35:41.732435Z"
    }
   },
   "id": "59b8b012d7eddf91",
   "execution_count": 25
  }
 ],
 "metadata": {
  "kernelspec": {
   "display_name": "Python 3",
   "language": "python",
   "name": "python3"
  },
  "language_info": {
   "codemirror_mode": {
    "name": "ipython",
    "version": 2
   },
   "file_extension": ".py",
   "mimetype": "text/x-python",
   "name": "python",
   "nbconvert_exporter": "python",
   "pygments_lexer": "ipython2",
   "version": "2.7.6"
  }
 },
 "nbformat": 4,
 "nbformat_minor": 5
}
