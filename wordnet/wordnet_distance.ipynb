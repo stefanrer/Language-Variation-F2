{
 "cells": [
  {
   "cell_type": "code",
   "outputs": [
    {
     "name": "stdout",
     "output_type": "stream",
     "text": [
      "Requirement already satisfied: ruwordnet in c:\\users\\robst\\anaconda3\\envs\\rccki_w2v_parser\\lib\\site-packages (0.0.6)\n",
      "Requirement already satisfied: sqlalchemy<2.0 in c:\\users\\robst\\anaconda3\\envs\\rccki_w2v_parser\\lib\\site-packages (from ruwordnet) (1.4.52)\n",
      "Requirement already satisfied: greenlet!=0.4.17 in c:\\users\\robst\\anaconda3\\envs\\rccki_w2v_parser\\lib\\site-packages (from sqlalchemy<2.0->ruwordnet) (3.0.3)\n",
      "downloading a ruwordnet model from https://github.com/avidale/python-ruwordnet/releases/download/0.0.4/ruwordnet-2021.db\n"
     ]
    }
   ],
   "source": [
    "# !pip install ruwordnet\n",
    "# !ruwordnet download"
   ],
   "metadata": {
    "collapsed": false,
    "ExecuteTime": {
     "end_time": "2024-06-12T13:24:36.671267Z",
     "start_time": "2024-06-12T13:24:31.484616Z"
    }
   },
   "id": "171a6e923f606ec2",
   "execution_count": 3
  },
  {
   "cell_type": "code",
   "execution_count": null,
   "id": "initial_id",
   "metadata": {
    "collapsed": true
   },
   "outputs": [],
   "source": [
    "from ruwordnet import RuWordNet\n",
    "from collections import deque\n",
    "import numpy as np"
   ]
  },
  {
   "cell_type": "code",
   "outputs": [],
   "source": [
    "# Initialize RuWordNet\n",
    "ruwordnet = RuWordNet()"
   ],
   "metadata": {
    "collapsed": false
   },
   "id": "377f690dbd948ae5"
  },
  {
   "cell_type": "code",
   "outputs": [],
   "source": [
    "# Function to get all hypernyms for a given synset\n",
    "def get_hypernyms(synset):\n",
    "    return synset.hypernyms"
   ],
   "metadata": {
    "collapsed": false
   },
   "id": "c883a10b114e4e42"
  },
  {
   "cell_type": "code",
   "outputs": [],
   "source": [
    "# Bidirectional BFS to find the shortest path between two synsets\n",
    "def bidirectional_bfs(synset1, synset2):\n",
    "    if synset1 == synset2:\n",
    "        return 0\n",
    "    \n",
    "    queue1 = deque([(synset1, 0)])\n",
    "    queue2 = deque([(synset2, 0)])\n",
    "    \n",
    "    visited1 = {synset1: 0}\n",
    "    visited2 = {synset2: 0}\n",
    "    \n",
    "    while queue1 and queue2:\n",
    "        if queue1:\n",
    "            current_synset, distance = queue1.popleft()\n",
    "            for hypernym in get_hypernyms(current_synset):\n",
    "                if hypernym in visited2:\n",
    "                    return distance + 1 + visited2[hypernym]\n",
    "                if hypernym not in visited1:\n",
    "                    visited1[hypernym] = distance + 1\n",
    "                    queue1.append((hypernym, distance + 1))\n",
    "        \n",
    "        if queue2:\n",
    "            current_synset, distance = queue2.popleft()\n",
    "            for hypernym in get_hypernyms(current_synset):\n",
    "                if hypernym in visited1:\n",
    "                    return distance + 1 + visited1[hypernym]\n",
    "                if hypernym not in visited2:\n",
    "                    visited2[hypernym] = distance + 1\n",
    "                    queue2.append((hypernym, distance + 1))\n",
    "    \n",
    "    return float('inf')"
   ],
   "metadata": {
    "collapsed": false
   },
   "id": "47802ea7e5a7dea3"
  },
  {
   "cell_type": "code",
   "outputs": [],
   "source": [
    "# Function to calculate the minimal distance between two labels\n",
    "def calculate_distance(label1, label2):\n",
    "    synsets_label1 = ruwordnet.get_synsets(label1)\n",
    "    synsets_label2 = ruwordnet.get_synsets(label2)\n",
    "\n",
    "    min_distance = float('inf')\n",
    "    for synset1 in synsets_label1:\n",
    "        for synset2 in synsets_label2:\n",
    "            distance = bidirectional_bfs(synset1, synset2)\n",
    "            if distance < min_distance:\n",
    "                min_distance = distance\n",
    "    \n",
    "    return min_distance if min_distance != float('inf') else None"
   ],
   "metadata": {
    "collapsed": false
   },
   "id": "64652bec4227fb34"
  },
  {
   "cell_type": "code",
   "outputs": [],
   "source": [
    "# Function to calculate the average distance between labels and ideal_label\n",
    "def calculate(labels, ideal_label):\n",
    "    # Calculate distances for correct and wrong labels\n",
    "    distances = [calculate_distance(ideal_label, label) for label in labels]\n",
    "    # Filter out None values\n",
    "    distances = [dist for dist in distances if dist is not None]\n",
    "    # Compute average distances, treating no distances as infinity\n",
    "    average_distance = np.mean(distances) if distances else float('inf')\n",
    "    return average_distance"
   ],
   "metadata": {
    "collapsed": false
   },
   "id": "bbff9e41a3db7230"
  },
  {
   "cell_type": "code",
   "outputs": [],
   "source": [],
   "metadata": {
    "collapsed": false
   },
   "id": "30afac53042cf77a"
  }
 ],
 "metadata": {
  "kernelspec": {
   "display_name": "Python 3",
   "language": "python",
   "name": "python3"
  },
  "language_info": {
   "codemirror_mode": {
    "name": "ipython",
    "version": 2
   },
   "file_extension": ".py",
   "mimetype": "text/x-python",
   "name": "python",
   "nbconvert_exporter": "python",
   "pygments_lexer": "ipython2",
   "version": "2.7.6"
  }
 },
 "nbformat": 4,
 "nbformat_minor": 5
}
